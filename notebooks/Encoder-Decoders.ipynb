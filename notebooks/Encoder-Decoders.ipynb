{
 "cells": [
  {
   "cell_type": "markdown",
   "id": "257326b9",
   "metadata": {},
   "source": [
    "# Encoder / Decoder models"
   ]
  },
  {
   "cell_type": "markdown",
   "id": "175930f8",
   "metadata": {},
   "source": [
    "Encoding and decoding is a framework / approach rather than being a machine learning model. It usually includes two models, one encoding and the other one decoding. \n",
    "\n",
    "Especially useful for anomaly detection and denoising. \n",
    "\n",
    "The idea is you take a complex data, and try to represent it with as few as possible features. Then from these features you could re-trace your steps and recreate the original data but without the noise. \n",
    "\n",
    "Here, we will try to find the **latent** space for the triangles using the generated images. Ideally, we should be able to represent each with only 4 numbers; `a,b,c,` and an `angle`. Then we could use a decoder to either; recreate a new triangle image, or given 3 of the parameters, estimate the remaining one."
   ]
  },
  {
   "cell_type": "code",
   "execution_count": 1,
   "id": "1e1cf1f5",
   "metadata": {},
   "outputs": [
    {
     "name": "stderr",
     "output_type": "stream",
     "text": [
      "2025-06-23 17:00:10.258128: I external/local_xla/xla/tsl/cuda/cudart_stub.cc:32] Could not find cuda drivers on your machine, GPU will not be used.\n",
      "2025-06-23 17:00:10.299070: I external/local_xla/xla/tsl/cuda/cudart_stub.cc:32] Could not find cuda drivers on your machine, GPU will not be used.\n",
      "2025-06-23 17:00:10.350237: E external/local_xla/xla/stream_executor/cuda/cuda_fft.cc:467] Unable to register cuFFT factory: Attempting to register factory for plugin cuFFT when one has already been registered\n",
      "WARNING: All log messages before absl::InitializeLog() is called are written to STDERR\n",
      "E0000 00:00:1750690810.391913   47885 cuda_dnn.cc:8579] Unable to register cuDNN factory: Attempting to register factory for plugin cuDNN when one has already been registered\n",
      "E0000 00:00:1750690810.404487   47885 cuda_blas.cc:1407] Unable to register cuBLAS factory: Attempting to register factory for plugin cuBLAS when one has already been registered\n",
      "W0000 00:00:1750690810.485170   47885 computation_placer.cc:177] computation placer already registered. Please check linkage and avoid linking the same target more than once.\n",
      "W0000 00:00:1750690810.485230   47885 computation_placer.cc:177] computation placer already registered. Please check linkage and avoid linking the same target more than once.\n",
      "W0000 00:00:1750690810.485233   47885 computation_placer.cc:177] computation placer already registered. Please check linkage and avoid linking the same target more than once.\n",
      "W0000 00:00:1750690810.485235   47885 computation_placer.cc:177] computation placer already registered. Please check linkage and avoid linking the same target more than once.\n",
      "2025-06-23 17:00:10.507476: I tensorflow/core/platform/cpu_feature_guard.cc:210] This TensorFlow binary is optimized to use available CPU instructions in performance-critical operations.\n",
      "To enable the following instructions: AVX2 FMA, in other operations, rebuild TensorFlow with the appropriate compiler flags.\n"
     ]
    }
   ],
   "source": [
    "\n",
    "from sklearn.preprocessing import StandardScaler\n",
    "from sklearn.pipeline import make_pipeline\n",
    "from sklearn.model_selection import train_test_split\n",
    "from sklearn.metrics import mean_squared_error, r2_score\n",
    "from tensorflow.keras import layers, models\n",
    "import numpy as np\n",
    "import matplotlib.pyplot as plt\n",
    "import os, sys\n",
    "\n",
    "# Add the project root to sys.path (one level up from this notebook)\n",
    "sys.path.append(os.path.abspath(os.path.join(os.getcwd(), \"..\")))\n",
    "\n",
    "from hypotai.data import generate_triangle_data\n",
    "from hypotai.plotting import plot_triangle"
   ]
  },
  {
   "cell_type": "markdown",
   "id": "8b7ac4d4",
   "metadata": {},
   "source": [
    "Here we use a CNN to decode the triangles into a latent space."
   ]
  },
  {
   "cell_type": "code",
   "execution_count": null,
   "id": "71283848",
   "metadata": {},
   "outputs": [],
   "source": [
    "# Encoder\n",
    "encoder = models.Sequential([\n",
    "    layers.Input(shape=(64, 64, 1)),\n",
    "    layers.Conv2D(32, (3, 3), activation='relu'),\n",
    "    layers.MaxPooling2D(2),\n",
    "    layers.Conv2D(64, (3, 3), activation='relu'),\n",
    "    layers.MaxPooling2D(2),\n",
    "    layers.Conv2D(128, (3, 3), activation='relu'),\n",
    "    layers.Flatten(),\n",
    "    layers.Dense(4, name=\"latent_vector\")  # 🧠 bottleneck\n",
    "])\n",
    "\n",
    "# Decoder (optional if reconstructing image)\n",
    "decoder = models.Sequential([\n",
    "    layers.Input(shape=(4,)),\n",
    "    layers.Dense(8*8*64, activation='relu'),\n",
    "    layers.Reshape((8, 8, 64)),\n",
    "    layers.Conv2DTranspose(64, (3, 3), strides=2, padding='same', activation='relu'),\n",
    "    layers.Conv2DTranspose(32, (3, 3), strides=2, padding='same', activation='relu'),\n",
    "    layers.Conv2DTranspose(1, (3, 3), activation='sigmoid', padding='same')  # Reconstructed image\n",
    "])\n"
   ]
  },
  {
   "cell_type": "code",
   "execution_count": null,
   "id": "20c11d74",
   "metadata": {},
   "outputs": [],
   "source": []
  },
  {
   "cell_type": "code",
   "execution_count": null,
   "id": "e01d7ca3",
   "metadata": {},
   "outputs": [],
   "source": []
  },
  {
   "cell_type": "code",
   "execution_count": null,
   "id": "bb4f6767",
   "metadata": {},
   "outputs": [],
   "source": []
  },
  {
   "cell_type": "code",
   "execution_count": null,
   "id": "27911781",
   "metadata": {},
   "outputs": [],
   "source": []
  },
  {
   "cell_type": "code",
   "execution_count": null,
   "id": "86ee5293",
   "metadata": {},
   "outputs": [],
   "source": []
  },
  {
   "cell_type": "code",
   "execution_count": null,
   "id": "30d0da1c",
   "metadata": {},
   "outputs": [],
   "source": []
  },
  {
   "cell_type": "code",
   "execution_count": null,
   "id": "87885aae",
   "metadata": {},
   "outputs": [],
   "source": []
  }
 ],
 "metadata": {
  "kernelspec": {
   "display_name": "hypotai-py3.12",
   "language": "python",
   "name": "python3"
  },
  "language_info": {
   "codemirror_mode": {
    "name": "ipython",
    "version": 3
   },
   "file_extension": ".py",
   "mimetype": "text/x-python",
   "name": "python",
   "nbconvert_exporter": "python",
   "pygments_lexer": "ipython3",
   "version": "3.12.3"
  }
 },
 "nbformat": 4,
 "nbformat_minor": 5
}
