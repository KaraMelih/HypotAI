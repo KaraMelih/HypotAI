{
 "cells": [
  {
   "cell_type": "markdown",
   "id": "04151c0a-ff31-4302-88fe-abac035a9e79",
   "metadata": {},
   "source": [
    "# Hypotenuse AI\n",
    "## Artificial Dumbness\n",
    "\n",
    "Given the lengths of two sides of a right triangle we will find out the length of the hypotenuse - using (drum rolls please) Artificial Intelligence!"
   ]
  },
  {
   "cell_type": "code",
   "execution_count": 1,
   "id": "973eed54-0751-4f34-9b7c-89fd3a361eb6",
   "metadata": {},
   "outputs": [],
   "source": [
    "import numpy as np"
   ]
  },
  {
   "cell_type": "code",
   "execution_count": 2,
   "id": "e5c4853a-b91a-4f58-a39b-17c63581f212",
   "metadata": {},
   "outputs": [
    {
     "data": {
      "text/plain": [
       "array([ 0,  1,  2,  3,  4,  5,  6,  7,  8,  9, 10, 11, 12, 13, 14, 15, 16,\n",
       "       17, 18, 19, 20, 21, 22, 23, 24, 25, 26, 27, 28, 29, 30, 31, 32, 33,\n",
       "       34, 35, 36, 37, 38, 39, 40, 41, 42, 43, 44, 45, 46, 47, 48, 49])"
      ]
     },
     "execution_count": 2,
     "metadata": {},
     "output_type": "execute_result"
    }
   ],
   "source": [
    "np.arange(50)"
   ]
  },
  {
   "cell_type": "code",
   "execution_count": null,
   "id": "63204f44-10a1-4be1-b307-7fb1992b0bd1",
   "metadata": {},
   "outputs": [],
   "source": []
  },
  {
   "cell_type": "code",
   "execution_count": null,
   "id": "c5fff62f-3fdd-49ef-9d9d-f7bfbb2a4ca7",
   "metadata": {},
   "outputs": [],
   "source": []
  },
  {
   "cell_type": "code",
   "execution_count": null,
   "id": "8e04a04d-71f1-463f-aad5-8aa9dd2a4bf1",
   "metadata": {},
   "outputs": [],
   "source": []
  },
  {
   "cell_type": "code",
   "execution_count": null,
   "id": "c69bc5f0-fb96-48ca-bb39-e8205dc69051",
   "metadata": {},
   "outputs": [],
   "source": []
  },
  {
   "cell_type": "code",
   "execution_count": null,
   "id": "2940e6d4-1b4f-4fb7-87c2-5a0bbbf95421",
   "metadata": {},
   "outputs": [],
   "source": []
  },
  {
   "cell_type": "code",
   "execution_count": null,
   "id": "a5f27ef8-1d99-4d8c-9fef-d2ab16babb4a",
   "metadata": {},
   "outputs": [],
   "source": []
  },
  {
   "cell_type": "code",
   "execution_count": null,
   "id": "7d792f6f-76fb-400f-8def-01ee28b32de3",
   "metadata": {},
   "outputs": [],
   "source": []
  }
 ],
 "metadata": {
  "kernelspec": {
   "display_name": "Python (HypotAI)",
   "language": "python",
   "name": "hypotai"
  },
  "language_info": {
   "codemirror_mode": {
    "name": "ipython",
    "version": 3
   },
   "file_extension": ".py",
   "mimetype": "text/x-python",
   "name": "python",
   "nbconvert_exporter": "python",
   "pygments_lexer": "ipython3",
   "version": "3.12.3"
  }
 },
 "nbformat": 4,
 "nbformat_minor": 5
}
